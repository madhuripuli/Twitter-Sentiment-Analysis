{
 "cells": [
  {
   "cell_type": "code",
   "execution_count": 1,
   "metadata": {},
   "outputs": [],
   "source": [
    "from textblob import TextBlob"
   ]
  },
  {
   "cell_type": "code",
   "execution_count": 2,
   "metadata": {},
   "outputs": [],
   "source": [
    "import tweepy"
   ]
  },
  {
   "cell_type": "code",
   "execution_count": 3,
   "metadata": {},
   "outputs": [],
   "source": [
    "auth = tweepy.OAuthHandler(consumer_key='hCjG5RlxvXKggWpASo16zxvOJ', \n",
    "                           consumer_secret='bGSMNbceGshsydlhVltxDyIpMs3ogZUJ2j0Hgaj2Lncu7kRsjg')\n",
    "\n",
    "auth.set_access_token('975226824908210176-YCOgr79x5wOeee7QDt2vbhkVNWbPFSg',\n",
    "                      'FfrJd08ihxhLZPGgIGCL0XLHiYB2qbBLURTZuKfCicD1W')"
   ]
  },
  {
   "cell_type": "code",
   "execution_count": 4,
   "metadata": {},
   "outputs": [],
   "source": [
    "api = tweepy.API(auth)"
   ]
  },
  {
   "cell_type": "code",
   "execution_count": 5,
   "metadata": {},
   "outputs": [],
   "source": [
    "public_tweets = api.home_timeline()"
   ]
  },
  {
   "cell_type": "code",
   "execution_count": 6,
   "metadata": {},
   "outputs": [
    {
     "name": "stdout",
     "output_type": "stream",
     "text": [
      "Congratulations on the launch of your new book, Boria Majumdar &amp; Nalin Mehta .\n",
      "#DreamsofaBillion shall resonate wit… https://t.co/mVZ1kXMo3F 31689237 79 Wed Apr 21 07:42:23 +0000 2010\n",
      "RT @GooglePlayDev: 🎙️🆕 Apps, Games, &amp; Insights podcast first episode alert!\n",
      "\n",
      "Discover how game developer @Crowdstar, maker of @CovetFashion… 21837107 224 Tue Feb 10 19:14:39 +0000 2009\n",
      "RT @googleearth: Meet five women-led groups leading the way in the geosciences. @WiGISKe, @SERVIRGlobal, @GeoLatinas, @GeospatialWomen, @La… 21837107 224 Tue Feb 10 19:14:39 +0000 2009\n",
      "RT @GoogleForEdu: If you're facing school closure, or have students who are unable to attend class—and are able to continue teaching remote… 21837107 224 Tue Feb 10 19:14:39 +0000 2009\n",
      "\"#HeyGoogle, serenade me one more time.” Enjoy @JohnLegend’s cameo Google Assistant voice before it comes to an end… https://t.co/50ooqD0GEX 21837107 224 Tue Feb 10 19:14:39 +0000 2009\n",
      "Change is the only constant 🙌🏼 https://t.co/ru47WRhB5F 33877908 58 Thu Sep 03 07:57:30 +0000 2009\n",
      "Using @googlemaps, the Women Riders World Relay journeyed over 100,000 km through 79 countries in what became the l… https://t.co/4r8yEi1rCi 21837107 224 Tue Feb 10 19:14:39 +0000 2009\n",
      "इस वीडियो में एक जरूरी संदेश को बड़े ही खूबसूरती से बताया गया है।\n",
      "\n",
      "भारत को स्वच्छ और स्वस्थ बनाने के लिए हम सभी को… https://t.co/mdytcoPFLK 31689237 79 Wed Apr 21 07:42:23 +0000 2010\n",
      "Aayiye... @realmemobiles aur mere saath humaari is daud mein to capture the reality in 64MP!  #realme6 #realme6Pro… https://t.co/kAB673cFGk 39248739 24 Tue Apr 13 02:56:21 +0000 2010\n",
      "Inspiring women entrepreneurs.\n",
      "\n",
      "Nari Shakti securing India.\n",
      "\n",
      "Women excelling in sports and leadership. \n",
      "\n",
      "Women farm… https://t.co/NGnHmmK59L 53456261 2371 Sat Jan 10 17:18:56 +0000 2009\n",
      "Birthday greetings and warm wishes to the humble and hardworking senior BJP leader and former CM of Madhya Pradesh,… https://t.co/FprCp5vYPf 15508495 352 Fri Apr 12 09:46:07 +0000 2013\n",
      "Thank you Tusshar 🤗 https://t.co/tEq0wc03zE 34028217 26 Wed Apr 15 05:23:19 +0000 2009\n",
      "Congratulations @BCCIWomen on reaching the #T20WorldCup finals! Wishing you lots of success &amp; tremendous victory ahead. Way to go! 17265346 344 Mon Mar 08 08:47:26 +0000 2010\n",
      "Congratulations to the Indian Women's team on qualifying for the @T20WorldCup final. We are proud of you girls and… https://t.co/cXOohnLwos 33877908 58 Thu Sep 03 07:57:30 +0000 2009\n",
      "भाजपा के लोकप्रिय नेता एवं मेरे मित्र शिवराज सिंह चौहान जी को जन्मदिन की ढेरों शुभकामनाएं। मेरी कामना है कि वे दीर्… https://t.co/h7FvD1uTqA 53456261 2371 Sat Jan 10 17:18:56 +0000 2009\n",
      "Remembering Biju Babu on his Jayanti. This document from the pages of history (dated 1945) gives a glimpse of his c… https://t.co/CjDf1aGAYi 53456261 2371 Sat Jan 10 17:18:56 +0000 2009\n",
      "RT @GoogleStadia: ✨New studio unlocked✨We've opened a brand new games studio in Playa Vista. The team will be focused on delivering exclusi… 21837107 224 Tue Feb 10 19:14:39 +0000 2009\n",
      "36,000 years ago, prehistoric people left behind cave drawings. \n",
      "\n",
      "Today @googlearts made them accessible to everyon… https://t.co/650JeDTgqR 21837107 224 Tue Feb 10 19:14:39 +0000 2009\n",
      "Think about how much you read on your phone every day. Now when you say \"Hey Google, read it,\" the browser on your… https://t.co/GcdSe6tlp9 21837107 224 Tue Feb 10 19:14:39 +0000 2009\n"
     ]
    }
   ],
   "source": [
    "for tweet in public_tweets:\n",
    "    dictionary = tweet._json\n",
    "    print(dictionary['text'] +  \" \" + str(dictionary['user']['followers_count']) +  \" \" + str(dictionary['user']['friends_count']) +  \" \" + dictionary['user']['created_at'])\n",
    "    "
   ]
  },
  {
   "cell_type": "code",
   "execution_count": 8,
   "metadata": {},
   "outputs": [
    {
     "name": "stdout",
     "output_type": "stream",
     "text": [
      "Congratulations on the launch of your new book, Boria Majumdar &amp; Nalin Mehta .\n",
      "#DreamsofaBillion shall resonate wit… https://t.co/mVZ1kXMo3F\n",
      "Sentiment(polarity=0.13636363636363635, subjectivity=0.45454545454545453)\n",
      "RT @GooglePlayDev: 🎙️🆕 Apps, Games, &amp; Insights podcast first episode alert!\n",
      "\n",
      "Discover how game developer @Crowdstar, maker of @CovetFashion…\n",
      "Sentiment(polarity=-0.04375000000000001, subjectivity=0.3666666666666667)\n",
      "RT @googleearth: Meet five women-led groups leading the way in the geosciences. @WiGISKe, @SERVIRGlobal, @GeoLatinas, @GeospatialWomen, @La…\n",
      "Sentiment(polarity=0.0, subjectivity=0.0)\n",
      "RT @GoogleForEdu: If you're facing school closure, or have students who are unable to attend class—and are able to continue teaching remote…\n",
      "Sentiment(polarity=0.0, subjectivity=0.5625)\n",
      "\"#HeyGoogle, serenade me one more time.” Enjoy @JohnLegend’s cameo Google Assistant voice before it comes to an end… https://t.co/50ooqD0GEX\n",
      "Sentiment(polarity=0.45, subjectivity=0.5)\n",
      "Change is the only constant 🙌🏼 https://t.co/ru47WRhB5F\n",
      "Sentiment(polarity=0.0, subjectivity=0.6666666666666666)\n",
      "Using @googlemaps, the Women Riders World Relay journeyed over 100,000 km through 79 countries in what became the l… https://t.co/4r8yEi1rCi\n",
      "Sentiment(polarity=0.0, subjectivity=0.0)\n",
      "इस वीडियो में एक जरूरी संदेश को बड़े ही खूबसूरती से बताया गया है।\n",
      "\n",
      "भारत को स्वच्छ और स्वस्थ बनाने के लिए हम सभी को… https://t.co/mdytcoPFLK\n",
      "Sentiment(polarity=0.0, subjectivity=0.0)\n",
      "Aayiye... @realmemobiles aur mere saath humaari is daud mein to capture the reality in 64MP!  #realme6 #realme6Pro… https://t.co/kAB673cFGk\n",
      "Sentiment(polarity=-0.625, subjectivity=0.5)\n",
      "Inspiring women entrepreneurs.\n",
      "\n",
      "Nari Shakti securing India.\n",
      "\n",
      "Women excelling in sports and leadership. \n",
      "\n",
      "Women farm… https://t.co/NGnHmmK59L\n",
      "Sentiment(polarity=0.5, subjectivity=1.0)\n",
      "Birthday greetings and warm wishes to the humble and hardworking senior BJP leader and former CM of Madhya Pradesh,… https://t.co/FprCp5vYPf\n",
      "Sentiment(polarity=0.13333333333333333, subjectivity=0.3333333333333333)\n",
      "Thank you Tusshar 🤗 https://t.co/tEq0wc03zE\n",
      "Sentiment(polarity=0.0, subjectivity=0.0)\n",
      "Congratulations @BCCIWomen on reaching the #T20WorldCup finals! Wishing you lots of success &amp; tremendous victory ahead. Way to go!\n",
      "Sentiment(polarity=0.3583333333333333, subjectivity=0.5)\n",
      "Congratulations to the Indian Women's team on qualifying for the @T20WorldCup final. We are proud of you girls and… https://t.co/cXOohnLwos\n",
      "Sentiment(polarity=0.4, subjectivity=1.0)\n",
      "भाजपा के लोकप्रिय नेता एवं मेरे मित्र शिवराज सिंह चौहान जी को जन्मदिन की ढेरों शुभकामनाएं। मेरी कामना है कि वे दीर्… https://t.co/h7FvD1uTqA\n",
      "Sentiment(polarity=0.0, subjectivity=0.0)\n",
      "Remembering Biju Babu on his Jayanti. This document from the pages of history (dated 1945) gives a glimpse of his c… https://t.co/CjDf1aGAYi\n",
      "Sentiment(polarity=0.0, subjectivity=0.0)\n",
      "RT @GoogleStadia: ✨New studio unlocked✨We've opened a brand new games studio in Playa Vista. The team will be focused on delivering exclusi…\n",
      "Sentiment(polarity=0.13636363636363635, subjectivity=0.45454545454545453)\n",
      "36,000 years ago, prehistoric people left behind cave drawings. \n",
      "\n",
      "Today @googlearts made them accessible to everyon… https://t.co/650JeDTgqR\n",
      "Sentiment(polarity=-0.00833333333333334, subjectivity=0.35833333333333334)\n",
      "Think about how much you read on your phone every day. Now when you say \"Hey Google, read it,\" the browser on your… https://t.co/GcdSe6tlp9\n",
      "Sentiment(polarity=0.2, subjectivity=0.2)\n"
     ]
    }
   ],
   "source": [
    "for tweet in public_tweets:\n",
    "    print(tweet.text)\n",
    "    text = TextBlob(tweet.text)\n",
    "    print(text.sentiment)"
   ]
  },
  {
   "cell_type": "code",
   "execution_count": null,
   "metadata": {},
   "outputs": [],
   "source": []
  }
 ],
 "metadata": {
  "kernelspec": {
   "display_name": "Python 3",
   "language": "python",
   "name": "python3"
  },
  "language_info": {
   "codemirror_mode": {
    "name": "ipython",
    "version": 3
   },
   "file_extension": ".py",
   "mimetype": "text/x-python",
   "name": "python",
   "nbconvert_exporter": "python",
   "pygments_lexer": "ipython3",
   "version": "3.7.4"
  }
 },
 "nbformat": 4,
 "nbformat_minor": 2
}
